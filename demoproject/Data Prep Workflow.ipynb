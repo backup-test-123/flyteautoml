{
 "cells": [
  {
   "cell_type": "markdown",
   "metadata": {},
   "source": [
    "# Training Workflow\n",
    "\n",
    "- Array-task to download videos,\n",
    "- Array-task to break them down into frames,\n",
    "- Array-task to run luminance algorithm to pick key frames.\n"
   ]
  },
  {
   "cell_type": "code",
   "execution_count": 1,
   "metadata": {},
   "outputs": [
    {
     "name": "stderr",
     "output_type": "stream",
     "text": [
      "Using TensorFlow backend.\n"
     ]
    },
    {
     "ename": "NameError",
     "evalue": "name 'ujson' is not defined",
     "output_type": "error",
     "traceback": [
      "\u001b[0;31m---------------------------------------------------------------------------\u001b[0m",
      "\u001b[0;31mNameError\u001b[0m                                 Traceback (most recent call last)",
      "\u001b[0;32m<ipython-input-1-3b5b98443eb6>\u001b[0m in \u001b[0;36m<module>\u001b[0;34m\u001b[0m\n\u001b[1;32m      9\u001b[0m \u001b[0;34m\u001b[0m\u001b[0m\n\u001b[1;32m     10\u001b[0m \u001b[0;34m\u001b[0m\u001b[0m\n\u001b[0;32m---> 11\u001b[0;31m \u001b[0;34m@\u001b[0m\u001b[0mworkflow_class\u001b[0m\u001b[0;34m\u001b[0m\u001b[0;34m\u001b[0m\u001b[0m\n\u001b[0m\u001b[1;32m     12\u001b[0m \u001b[0;32mclass\u001b[0m \u001b[0mClassifierTrainWorkflow\u001b[0m\u001b[0;34m:\u001b[0m\u001b[0;34m\u001b[0m\u001b[0;34m\u001b[0m\u001b[0m\n\u001b[1;32m     13\u001b[0m     \u001b[0mavailable_streams_mpblobs\u001b[0m \u001b[0;34m=\u001b[0m \u001b[0mInput\u001b[0m\u001b[0;34m(\u001b[0m\u001b[0;34m[\u001b[0m\u001b[0mTypes\u001b[0m\u001b[0;34m.\u001b[0m\u001b[0mMultiPartBlob\u001b[0m\u001b[0;34m]\u001b[0m\u001b[0;34m,\u001b[0m \u001b[0mrequired\u001b[0m\u001b[0;34m=\u001b[0m\u001b[0;32mTrue\u001b[0m\u001b[0;34m)\u001b[0m\u001b[0;34m\u001b[0m\u001b[0;34m\u001b[0m\u001b[0m\n",
      "\u001b[0;32m<ipython-input-1-3b5b98443eb6>\u001b[0m in \u001b[0;36mClassifierTrainWorkflow\u001b[0;34m()\u001b[0m\n\u001b[1;32m     14\u001b[0m     \u001b[0mavailable_streams_names\u001b[0m \u001b[0;34m=\u001b[0m \u001b[0mInput\u001b[0m\u001b[0;34m(\u001b[0m\u001b[0;34m[\u001b[0m\u001b[0mTypes\u001b[0m\u001b[0;34m.\u001b[0m\u001b[0mString\u001b[0m\u001b[0;34m]\u001b[0m\u001b[0;34m,\u001b[0m \u001b[0mrequired\u001b[0m\u001b[0;34m=\u001b[0m\u001b[0;32mTrue\u001b[0m\u001b[0;34m)\u001b[0m\u001b[0;34m\u001b[0m\u001b[0;34m\u001b[0m\u001b[0m\n\u001b[1;32m     15\u001b[0m     \u001b[0mstreams_metadata_path\u001b[0m \u001b[0;34m=\u001b[0m \u001b[0mInput\u001b[0m\u001b[0;34m(\u001b[0m\u001b[0mTypes\u001b[0m\u001b[0;34m.\u001b[0m\u001b[0mString\u001b[0m\u001b[0;34m,\u001b[0m \u001b[0mrequired\u001b[0m\u001b[0;34m=\u001b[0m\u001b[0;32mTrue\u001b[0m\u001b[0;34m)\u001b[0m\u001b[0;34m\u001b[0m\u001b[0;34m\u001b[0m\u001b[0m\n\u001b[0;32m---> 16\u001b[0;31m     \u001b[0mtraining_validation_config_json\u001b[0m \u001b[0;34m=\u001b[0m \u001b[0mInput\u001b[0m\u001b[0;34m(\u001b[0m\u001b[0mTypes\u001b[0m\u001b[0;34m.\u001b[0m\u001b[0mGeneric\u001b[0m\u001b[0;34m,\u001b[0m \u001b[0mdefault\u001b[0m\u001b[0;34m=\u001b[0m\u001b[0mujson\u001b[0m\u001b[0;34m.\u001b[0m\u001b[0mloads\u001b[0m\u001b[0;34m(\u001b[0m\u001b[0mopen\u001b[0m\u001b[0;34m(\u001b[0m\u001b[0mDEFAULT_TRAINING_VALIDATION_CONFIG_FILE\u001b[0m\u001b[0;34m)\u001b[0m\u001b[0;34m.\u001b[0m\u001b[0mread\u001b[0m\u001b[0;34m(\u001b[0m\u001b[0;34m)\u001b[0m\u001b[0;34m)\u001b[0m\u001b[0;34m)\u001b[0m\u001b[0;34m\u001b[0m\u001b[0;34m\u001b[0m\u001b[0m\n\u001b[0m\u001b[1;32m     17\u001b[0m     \u001b[0mvalidation_data_ratio\u001b[0m \u001b[0;34m=\u001b[0m \u001b[0mInput\u001b[0m\u001b[0;34m(\u001b[0m\u001b[0mTypes\u001b[0m\u001b[0;34m.\u001b[0m\u001b[0mFloat\u001b[0m\u001b[0;34m,\u001b[0m \u001b[0mdefault\u001b[0m\u001b[0;34m=\u001b[0m\u001b[0mDEFAULT_VALIDATION_DATA_RATIO\u001b[0m\u001b[0;34m)\u001b[0m\u001b[0;34m\u001b[0m\u001b[0;34m\u001b[0m\u001b[0m\n\u001b[1;32m     18\u001b[0m \u001b[0;34m\u001b[0m\u001b[0m\n",
      "\u001b[0;31mNameError\u001b[0m: name 'ujson' is not defined"
     ]
    }
   ],
   "source": [
    "from flytekit.sdk.tasks import python_task, inputs, outputs\n",
    "from flytekit.sdk.types import Types\n",
    "from flytekit.sdk.workflow import workflow_class, Output, Input\n",
    "from workflows.classifier_evaluate_workflow import evaluate_lp\n",
    "from workflows.classifier_train_workflow import train_lp, DEFAULT_VALIDATION_DATA_RATIO, \\\n",
    "    DEFAULT_TRAINING_VALIDATION_CONFIG_FILE\n",
    "from workflows.data_preparation_workflow import data_prep\n",
    "from workflows.driver_workflow import pick_second\n",
    "\n",
    "\n",
    "@workflow_class\n",
    "class ClassifierTrainWorkflow:\n",
    "    available_streams_mpblobs = Input([Types.MultiPartBlob], required=True)\n",
    "    available_streams_names = Input([Types.String], required=True)\n",
    "    streams_metadata_path = Input(Types.String, required=True)\n",
    "    training_validation_config_json = Input(Types.Generic, default=ujson.loads(open(DEFAULT_TRAINING_VALIDATION_CONFIG_FILE).read()))\n",
    "    validation_data_ratio = Input(Types.Float, default=DEFAULT_VALIDATION_DATA_RATIO)\n",
    "\n",
    "    rearrange_data_task = rearrange_data(\n",
    "        available_streams_mpblobs=available_streams_mpblobs,\n",
    "        available_streams_names=available_streams_names,\n",
    "        training_validation_config_json=training_validation_config_json,\n",
    "        streams_metadata_path=streams_metadata_path,\n",
    "        validation_data_ratio=validation_data_ratio,\n",
    "    )\n",
    "\n",
    "    train_on_datasets_task = train_on_datasets(\n",
    "        training_validation_config_json=training_validation_config_json,\n",
    "        training_clean_mpblob=rearrange_data_task.outputs.training_clean_mpblob,\n",
    "        training_dirty_mpblob=rearrange_data_task.outputs.training_dirty_mpblob,\n",
    "        validation_clean_mpblob=rearrange_data_task.outputs.validation_clean_mpblob,\n",
    "        validation_dirty_mpblob=rearrange_data_task.outputs.validation_dirty_mpblob,\n",
    "    )\n",
    "\n",
    "    trained_models = Output(train_on_datasets_task.outputs.model_blobs, sdk_type=[Types.Blob])\n",
    "    model_file_names = Output(train_on_datasets_task.outputs.model_files_names, sdk_type=[Types.String])\n",
    "\n",
    "\n",
    "train_lp = ClassifierTrainWorkflow.create_launch_plan()"
   ]
  },
  {
   "cell_type": "code",
   "execution_count": null,
   "metadata": {},
   "outputs": [],
   "source": []
  }
 ],
 "metadata": {
  "kernelspec": {
   "display_name": "Python 3",
   "language": "python",
   "name": "python3"
  },
  "language_info": {
   "codemirror_mode": {
    "name": "ipython",
    "version": 3
   },
   "file_extension": ".py",
   "mimetype": "text/x-python",
   "name": "python",
   "nbconvert_exporter": "python",
   "pygments_lexer": "ipython3",
   "version": "3.7.4"
  }
 },
 "nbformat": 4,
 "nbformat_minor": 2
}
