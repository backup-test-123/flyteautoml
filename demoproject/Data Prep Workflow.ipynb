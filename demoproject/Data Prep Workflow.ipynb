{
 "cells": [
  {
   "cell_type": "markdown",
   "metadata": {},
   "source": [
    "# Training Workflow\n",
    "\n",
    "-\n"
   ]
  },
  {
   "cell_type": "code",
   "execution_count": null,
   "metadata": {},
   "outputs": [],
   "source": [
    "from flytekit.sdk.tasks import python_task, inputs, outputs\n",
    "from flytekit.sdk.types import Types\n",
    "from flytekit.sdk.workflow import workflow_class, Output, Input\n",
    "from workflows.classifier_evaluate_workflow import evaluate_lp\n",
    "from workflows.classifier_train_workflow import train_lp, DEFAULT_VALIDATION_DATA_RATIO, \\\n",
    "    DEFAULT_TRAINING_VALIDATION_CONFIG_FILE\n",
    "from workflows.data_preparation_workflow import data_prep\n",
    "from workflows.driver_workflow import pick_second\n",
    "\n",
    "\n",
    "@workflow_class\n",
    "class ClassifierTrainWorkflow:\n",
    "    available_streams_mpblobs = Input([Types.MultiPartBlob], required=True)\n",
    "    available_streams_names = Input([Types.String], required=True)\n",
    "    streams_metadata_path = Input(Types.String, required=True)\n",
    "    training_validation_config_json = Input(Types.Generic, default=ujson.loads(open(DEFAULT_TRAINING_VALIDATION_CONFIG_FILE).read()))\n",
    "    validation_data_ratio = Input(Types.Float, default=DEFAULT_VALIDATION_DATA_RATIO)\n",
    "\n",
    "    rearrange_data_task = rearrange_data(\n",
    "        available_streams_mpblobs=available_streams_mpblobs,\n",
    "        available_streams_names=available_streams_names,\n",
    "        training_validation_config_json=training_validation_config_json,\n",
    "        streams_metadata_path=streams_metadata_path,\n",
    "        validation_data_ratio=validation_data_ratio,\n",
    "    )\n",
    "\n",
    "    train_on_datasets_task = train_on_datasets(\n",
    "        training_validation_config_json=training_validation_config_json,\n",
    "        training_clean_mpblob=rearrange_data_task.outputs.training_clean_mpblob,\n",
    "        training_dirty_mpblob=rearrange_data_task.outputs.training_dirty_mpblob,\n",
    "        validation_clean_mpblob=rearrange_data_task.outputs.validation_clean_mpblob,\n",
    "        validation_dirty_mpblob=rearrange_data_task.outputs.validation_dirty_mpblob,\n",
    "    )\n",
    "\n",
    "    trained_models = Output(train_on_datasets_task.outputs.model_blobs, sdk_type=[Types.Blob])\n",
    "    model_file_names = Output(train_on_datasets_task.outputs.model_files_names, sdk_type=[Types.String])\n",
    "\n",
    "\n",
    "train_lp = ClassifierTrainWorkflow.create_launch_plan()"
   ]
  }
 ],
 "metadata": {
  "kernelspec": {
   "display_name": "Python 3",
   "language": "python",
   "name": "python3"
  },
  "language_info": {
   "codemirror_mode": {
    "name": "ipython",
    "version": 3
   },
   "file_extension": ".py",
   "mimetype": "text/x-python",
   "name": "python",
   "nbconvert_exporter": "python",
   "pygments_lexer": "ipython3",
   "version": "3.7.4"
  }
 },
 "nbformat": 4,
 "nbformat_minor": 2
}
