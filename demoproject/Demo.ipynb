{
 "cells": [
  {
   "cell_type": "markdown",
   "metadata": {},
   "source": [
    "# Flyte Demo\n",
    "\n",
    "- Register all tasks\n",
    "- Create a data preparation workflow by composing these tasks\n",
    "- Create an orchasteration workflow by composing other workflows\n",
    "- Visualize the output"
   ]
  },
  {
   "cell_type": "code",
   "execution_count": 19,
   "metadata": {},
   "outputs": [],
   "source": [
    "# We will use our own staging environment for the live demo!\n",
    "import os\n",
    "os.environ['FLYTE_PLATFORM_URL'] = \"flyte-staging.lyft.net\"\n",
    "version = \"fake10\""
   ]
  },
  {
   "cell_type": "code",
   "execution_count": 14,
   "metadata": {},
   "outputs": [
    {
     "name": "stdout",
     "output_type": "stream",
     "text": [
      "Running task, workflow, and launch plan registration for flytekubecondemo2019, development, ['workflows'] with version fake9\n",
      "Registering Task:                workflows.classifier_evaluate_workflow.analyze_prediction_results\n",
      "Registering Task:                workflows.classifier_evaluate_workflow.fetch_model\n",
      "Registering Task:                workflows.classifier_evaluate_workflow.evaluate_on_datasets\n",
      "Registering Task:                workflows.classifier_train_workflow.rearrange_data\n",
      "Registering Task:                workflows.classifier_evaluate_workflow.generate_predictions\n",
      "Registering Workflow:            workflows.classifier_evaluate_workflow.ClassifierEvaluateWorkflow\n",
      "Registering Launch Plan:         workflows.classifier_evaluate_workflow.ClassifierEvaluateWorkflow\n",
      "Registering Launch Plan:         workflows.classifier_evaluate_workflow.evaluate_lp\n",
      "Registering Task:                workflows.classifier_evaluate_workflow.predict\n",
      "Registering Task:                workflows.classifier_evaluate_workflow.validate_model_config\n",
      "Registering Task:                workflows.classifier_train_workflow.train_on_datasets\n",
      "Registering Workflow:            workflows.classifier_train_workflow.ClassifierTrainWorkflow\n",
      "Registering Launch Plan:         workflows.classifier_train_workflow.ClassifierTrainWorkflow\n",
      "Registering Launch Plan:         workflows.classifier_train_workflow.train_lp\n",
      "Registering Task:                workflows.data_preparation_workflow.download_videos\n",
      "Registering Task:                workflows.data_preparation_workflow.extract_from_video_collections\n",
      "Registering Task:                workflows.data_preparation_workflow.luminance_select_collections\n",
      "Registering Workflow:            workflows.data_preparation_workflow.DataPreparationWorkflow\n",
      "Registering Launch Plan:         workflows.data_preparation_workflow.DataPreparationWorkflow\n",
      "Registering Launch Plan:         workflows.data_preparation_workflow.data_prep\n",
      "Registering Task:                workflows.data_preparation_workflow.download_video_worker\n",
      "Registering Task:                workflows.data_preparation_workflow.extract_from_video_collection_worker\n",
      "Registering Task:                workflows.data_preparation_workflow.luminance_select_collection_worker\n",
      "Registering Task:                workflows.driver_workflow.pick_second\n",
      "Registering Workflow:            workflows.driver_workflow.DriverWorkflow\n",
      "Registering Launch Plan:         workflows.driver_workflow.DriverWorkflow\n",
      "Registering Launch Plan:         workflows.driver_workflow.driver_workflow_lp\n",
      "Registering Task:                workflows.dynamic_tasks_wf.custom_array_size\n",
      "Registering Workflow:            workflows.dynamic_tasks_wf.CustomArraySizeWorkflow\n",
      "Registering Launch Plan:         workflows.dynamic_tasks_wf.CustomArraySizeWorkflow\n",
      "Registering Task:                workflows.dynamic_tasks_wf.failing_task\n",
      "Registering Workflow:            workflows.dynamic_tasks_wf.FailingWorkflow\n",
      "Registering Launch Plan:         workflows.dynamic_tasks_wf.FailingWorkflow\n",
      "Registering Task:                workflows.dynamic_tasks_wf.failing_hive_task\n",
      "Registering Task:                workflows.dynamic_tasks_wf.my_other_sub_task\n",
      "Registering Task:                workflows.dynamic_tasks_wf.my_sub_task\n",
      "Registering Task:                workflows.simple_workflow.add_one_and_print\n",
      "Registering Task:                workflows.simple_workflow.sum_non_none\n",
      "Registering Workflow:            workflows.simple_workflow.SimpleWorkflow\n",
      "Registering Launch Plan:         workflows.simple_workflow.SimpleWorkflow\n"
     ]
    }
   ],
   "source": [
    "# Register existing tasks/workflows with the system\n",
    "from flytekit.clis.sdk_in_container.register import register_all, register_tasks_only\n",
    "import os \n",
    "from flytekit.configuration import set_flyte_config_file\n",
    "\n",
    "os.environ[\"FLYTE_INTERNAL_IMAGE\"] = \"docker.io/lyft/flytekubecondemo2019:bb1f44c83a6e9bc6e8bc9eb98bf9c4a8e76880c7\"\n",
    "set_flyte_config_file(\"staging.config\")\n",
    "os.environ[\"FLYTE_INTERNAL_CONFIGURATION_PATH\"] = \"/app/staging.config\"\n",
    "\n",
    "register_all(\"flytekubecondemo2019\", \"development\", [\"workflows\"], version=version, test=False)"
   ]
  },
  {
   "cell_type": "markdown",
   "metadata": {},
   "source": [
    "# Step 1: Data Preparation Workflow\n",
    "\n",
    "- Map-style job to download all videos from remote locations\n",
    "- Map-style job to extract frames from all videos\n",
    "- Map-style job to run luminance algorithm and select frames from videos"
   ]
  },
  {
   "cell_type": "code",
   "execution_count": 15,
   "metadata": {},
   "outputs": [
    {
     "data": {
      "text/plain": [
       "'lp:flytekubecondemo2019:development:workflows.driver_workflow.DataPreparationWorkflow:fake9'"
      ]
     },
     "execution_count": 15,
     "metadata": {},
     "output_type": "execute_result"
    }
   ],
   "source": [
    "\n",
    "from flytekit.sdk.types import Types\n",
    "from flytekit.sdk.workflow import workflow_class, Output, Input\n",
    "from workflows.data_preparation_workflow import DEFAULT_RANDOM_SEED, DEFAULT_LUMINANCE_N_CLUSTERS, DEFAULT_LUMINANCE_SAMPLE_SIZE, download_videos, extract_from_video_collections, luminance_select_collections\n",
    "\n",
    "@workflow_class\n",
    "class DataPreparationWorkflow:\n",
    "    streams_external_storage_prefix = Input(Types.String, required=True)\n",
    "    streams_names = Input([Types.String], required=True)\n",
    "    stream_extension = Input(Types.String, default=\"avi\")\n",
    "\n",
    "    # video_external_paths = Input([Types.String], required=True)\n",
    "    sampling_random_seed = Input(Types.Integer, default=DEFAULT_RANDOM_SEED)\n",
    "    sampling_n_clusters = Input(Types.Integer, default=DEFAULT_LUMINANCE_N_CLUSTERS)\n",
    "    sampling_sample_size = Input(Types.Integer, default=DEFAULT_LUMINANCE_SAMPLE_SIZE)\n",
    "\n",
    "    download_video_task = download_videos(\n",
    "        streams_external_storage_prefix=streams_external_storage_prefix,\n",
    "        streams_names=streams_names,\n",
    "        stream_extension=stream_extension,\n",
    "    )\n",
    "\n",
    "    extract_from_video_collection_task = extract_from_video_collections(\n",
    "        video_blobs=download_video_task.outputs.downloaded_streams_blobs,\n",
    "    )\n",
    "\n",
    "    luminance_select_collections_task = luminance_select_collections(\n",
    "        raw_frames_mpblobs=extract_from_video_collection_task.outputs.raw_frames_mpblobs,\n",
    "        n_clusters=sampling_n_clusters,\n",
    "        sample_size=sampling_sample_size,\n",
    "        random_seed=sampling_random_seed,\n",
    "    )\n",
    "\n",
    "    selected_frames_mpblobs = Output(luminance_select_collections_task.outputs.selected_image_mpblobs,\n",
    "                                     sdk_type=[Types.MultiPartBlob])\n",
    "    selected_frames_mpblobs_metadata = Output(luminance_select_collections_task.outputs.selected_file_names,\n",
    "                                              sdk_type=[[Types.String]])\n",
    "    streams_names_out = Output(streams_names, sdk_type=[Types.String])\n",
    "\n",
    "\n",
    "data_prep = DataPreparationWorkflow.create_launch_plan()\n",
    "\n",
    "DataPreparationWorkflow.register(\"flytekubecondemo2019\", \"development\", \"workflows.driver_workflow.DataPreparationWorkflow\", version)\n",
    "data_prep.register(\"flytekubecondemo2019\", \"development\", \"workflows.driver_workflow.DataPreparationWorkflow\", version)"
   ]
  },
  {
   "cell_type": "code",
   "execution_count": 16,
   "metadata": {},
   "outputs": [
    {
     "name": "stdout",
     "output_type": "stream",
     "text": [
      "Started execution: ex:flytekubecondemo2019:development:fcb7cc1984d89420ab75\n"
     ]
    }
   ],
   "source": [
    "# Kick of an execution\n",
    "data_prep_exec = data_prep.execute(\"flytekubecondemo2019\", \"development\", inputs={\n",
    "    'streams_external_storage_prefix': 's3://lyft-modelbuilder/metadata/_FlyteKubeconDemo2019Dataset/streams',\n",
    "    'streams_names': [\"1537396038_cam-rgb-1\",\"1537396038_cam-rgb-2\",\"1537396662_cam-rgb-1\",\"1537396662_cam-rgb-2\",\"1537396790_cam-rgb-1\",\"1537396790_cam-rgb-2\",\"1537396942_cam-rgb-1\",\"1537396942_cam-rgb-2\",\"1538521877_cam-rgb-1\",\"1538521877_cam-rgb-2\",\"1538521964_cam-rgb-1\",\"1538521964_cam-rgb-2\",\"1538522195_cam-rgb-1\",\"1538522195_cam-rgb-2\",\"1538522386_cam-rgb-1\",\"1538522386_cam-rgb-2\",\"1538522615_cam-rgb-1\",\"1538522615_cam-rgb-2\",\"1538522881_cam-rgb-1\",\"1538522881_cam-rgb-2\",\"1538523052_cam-rgb-1\",\"1538523052_cam-rgb-2\",\"1538523280_cam-rgb-1\",\"1538523280_cam-rgb-2\",\"1538523741_cam-rgb-1\",\"1538523741_cam-rgb-2\",\"1538523916_cam-rgb-1\",\"1538523916_cam-rgb-2\",\"1538524089_cam-rgb-1\",\"1538524089_cam-rgb-2\",\"1539390982_cam-rgb-1\",\"1539390982_cam-rgb-2\",\"1539391169_cam-rgb-1\",\"1539391169_cam-rgb-2\",\"1539391321_cam-rgb-1\",\"1539391321_cam-rgb-2\",\"1539391462_cam-rgb-1\",\"1539391462_cam-rgb-2\",\"1539391643_cam-rgb-1\",\"1539391643_cam-rgb-2\",\"1539391807_cam-rgb-1\",\"1539391807_cam-rgb-2\",\"1539391941_cam-rgb-1\",\"1539391941_cam-rgb-2\",\"1539471715_cam-rgb-1\",\"1539471715_cam-rgb-2\",\"1539471904_cam-rgb-1\",\"1539471904_cam-rgb-2\",\"1539475636_cam-rgb-1\",\"1539475636_cam-rgb-2\"],\n",
    "})\n",
    "\n",
    "print(\"Started execution: {}\".format(data_prep_exec.id))"
   ]
  },
  {
   "cell_type": "markdown",
   "metadata": {},
   "source": [
    "# Step 2 Orchasterator Workflow\n",
    "\n",
    "- Use data preparation, training and evaluation workflows to compose an orchasterator worklfow\n",
    "- Kick of an execution and wait for completion\n",
    "- Visualize the output"
   ]
  },
  {
   "cell_type": "code",
   "execution_count": 20,
   "metadata": {},
   "outputs": [
    {
     "data": {
      "text/plain": [
       "'lp:flytekubecondemo2019:development:workflows.driver_workflow.RegisterNotebook:fake10'"
      ]
     },
     "execution_count": 20,
     "metadata": {},
     "output_type": "execute_result"
    }
   ],
   "source": [
    "# The Driver Workflow\n",
    "import ujson\n",
    "from flytekit.common.tasks.task import SdkTask\n",
    "from flytekit.sdk.tasks import python_task, inputs, outputs\n",
    "from flytekit.sdk.types import Types\n",
    "from flytekit.sdk.workflow import workflow_class, Output, Input\n",
    "from workflows.classifier_evaluate_workflow import evaluate_lp\n",
    "from workflows.classifier_train_workflow import train_lp, DEFAULT_VALIDATION_DATA_RATIO, \\\n",
    "    DEFAULT_TRAINING_VALIDATION_CONFIG_FILE\n",
    "from workflows.data_preparation_workflow import data_prep\n",
    "from workflows.driver_workflow import pick_second\n",
    "\n",
    "# Consume a task from a different project\n",
    "compute_confusion_matrix = SdkTask.fetch(\n",
    "    project=\"kubecondemo2019-metrics\",\n",
    "    domain=\"development\",\n",
    "    name=\"demo_metrics.tasks.confusion_matrix.confusion_matrix\",\n",
    "    version=\"66b463748f25ef71c8cd4eb3001f00eafb83efc6\",\n",
    ")\n",
    "\n",
    "\n",
    "@workflow_class\n",
    "class Orchestrator:\n",
    "    # Define inputs\n",
    "    streams_external_storage_prefix = Input(Types.String, required=True)\n",
    "    streams_names = Input([Types.String], required=True)\n",
    "    stream_extension = Input(Types.String, default=\"avi\")\n",
    "\n",
    "    streams_metadata_path = Input(Types.String, required=True)\n",
    "    training_validation_config_json = Input(Types.Generic,\n",
    "                                            default=ujson.loads(open(DEFAULT_TRAINING_VALIDATION_CONFIG_FILE).read()))\n",
    "    validation_data_ratio = Input(Types.Float, default=DEFAULT_VALIDATION_DATA_RATIO)\n",
    "\n",
    "    # Define workflow steps\n",
    "    prepare = data_prep(\n",
    "        streams_external_storage_prefix=streams_external_storage_prefix,\n",
    "        streams_names=streams_names,\n",
    "        stream_extension=stream_extension)\n",
    "\n",
    "    train = train_lp(\n",
    "        available_streams_names=prepare.outputs.streams_names_out,\n",
    "        available_streams_mpblobs=prepare.outputs.selected_frames_mpblobs,\n",
    "        streams_metadata_path=streams_metadata_path,\n",
    "        training_validation_config_json=training_validation_config_json,\n",
    "        validation_data_ratio=validation_data_ratio\n",
    "    )\n",
    "\n",
    "    pick_second = pick_second(models=train.outputs.trained_models)\n",
    "\n",
    "    evaluate = evaluate_lp(\n",
    "        available_streams_names=prepare.outputs.streams_names_out,\n",
    "        available_streams_mpblobs=prepare.outputs.selected_frames_mpblobs,\n",
    "        streams_metadata_path=streams_metadata_path,\n",
    "        evaluation_config_json=training_validation_config_json,\n",
    "        model=pick_second.outputs.second,\n",
    "        validation_data_ratio=validation_data_ratio\n",
    "    )\n",
    "\n",
    "    confusion_matrix_task = compute_confusion_matrix(\n",
    "        y_true=evaluate.outputs.ground_truths,\n",
    "        y_pred=evaluate.outputs.predictions,\n",
    "        title=\"Confusion Matrix\",\n",
    "        normalize=True,\n",
    "        classes=[\"busy\", \"clear\"],\n",
    "    )\n",
    "\n",
    "    # Define workflow outputs\n",
    "#     ground_truths = Output(evaluate.outputs.ground_truths, sdk_type=[Types.Integer])\n",
    "#     predictions = Output(evaluate.outputs.predictions, sdk_type=[Types.Integer])\n",
    "    confusion_matrix_image = Output(confusion_matrix_task.outputs.visual, sdk_type=Types.Blob)\n",
    "\n",
    "\n",
    "orchestrator_lp = Orchestrator.create_launch_plan()\n",
    "\n",
    "Orchestrator.register(\"flytekubecondemo2019\", \"development\", \"workflows.driver_workflow.DriverWorkflow\", version)\n",
    "orchestrator_lp.register(\"flytekubecondemo2019\", \"development\", \"workflows.driver_workflow.DriverWorkflow\", version)"
   ]
  },
  {
   "cell_type": "code",
   "execution_count": 21,
   "metadata": {},
   "outputs": [
    {
     "name": "stdout",
     "output_type": "stream",
     "text": [
      "Started execution: ex:flytekubecondemo2019:development:f60884584e83c48afb12\n"
     ]
    }
   ],
   "source": [
    "# Kick of an execution\n",
    "execution = orchestrator_lp.execute(\"flytekubecondemo2019\", \"development\", inputs={\n",
    "    'streams_external_storage_prefix': 's3://lyft-modelbuilder/metadata/_FlyteKubeconDemo2019Dataset/streams',\n",
    "    'streams_names': [\"1537396038_cam-rgb-1\",\"1537396038_cam-rgb-2\",\"1537396662_cam-rgb-1\",\"1537396662_cam-rgb-2\",\"1537396790_cam-rgb-1\",\"1537396790_cam-rgb-2\",\"1537396942_cam-rgb-1\",\"1537396942_cam-rgb-2\",\"1538521877_cam-rgb-1\",\"1538521877_cam-rgb-2\",\"1538521964_cam-rgb-1\",\"1538521964_cam-rgb-2\",\"1538522195_cam-rgb-1\",\"1538522195_cam-rgb-2\",\"1538522386_cam-rgb-1\",\"1538522386_cam-rgb-2\",\"1538522615_cam-rgb-1\",\"1538522615_cam-rgb-2\",\"1538522881_cam-rgb-1\",\"1538522881_cam-rgb-2\",\"1538523052_cam-rgb-1\",\"1538523052_cam-rgb-2\",\"1538523280_cam-rgb-1\",\"1538523280_cam-rgb-2\",\"1538523741_cam-rgb-1\",\"1538523741_cam-rgb-2\",\"1538523916_cam-rgb-1\",\"1538523916_cam-rgb-2\",\"1538524089_cam-rgb-1\",\"1538524089_cam-rgb-2\",\"1539390982_cam-rgb-1\",\"1539390982_cam-rgb-2\",\"1539391169_cam-rgb-1\",\"1539391169_cam-rgb-2\",\"1539391321_cam-rgb-1\",\"1539391321_cam-rgb-2\",\"1539391462_cam-rgb-1\",\"1539391462_cam-rgb-2\",\"1539391643_cam-rgb-1\",\"1539391643_cam-rgb-2\",\"1539391807_cam-rgb-1\",\"1539391807_cam-rgb-2\",\"1539391941_cam-rgb-1\",\"1539391941_cam-rgb-2\",\"1539471715_cam-rgb-1\",\"1539471715_cam-rgb-2\",\"1539471904_cam-rgb-1\",\"1539471904_cam-rgb-2\",\"1539475636_cam-rgb-1\",\"1539475636_cam-rgb-2\"],\n",
    "    'streams_metadata_path': 's3://lyft-modelbuilder/metadata/_FlyteKubeconDemo2019Dataset/metadata/streams_metadata.json',\n",
    "})\n",
    "\n",
    "print(\"Started execution: {}\".format(execution.id))"
   ]
  },
  {
   "cell_type": "code",
   "execution_count": null,
   "metadata": {},
   "outputs": [],
   "source": [
    "execution.wait_for_completion()\n",
    "print(execution.outputs)"
   ]
  },
  {
   "cell_type": "code",
   "execution_count": null,
   "metadata": {},
   "outputs": [],
   "source": [
    "local_file = \"/tmp/cm-4.png\"\n",
    "execution.outputs[\"confusion_matrix_image\"].download(local_file, overwrite=True)\n",
    "from IPython.display import Image\n",
    "Image(filename=local_file)"
   ]
  }
 ],
 "metadata": {
  "kernelspec": {
   "display_name": "Python 3",
   "language": "python",
   "name": "python3"
  },
  "language_info": {
   "codemirror_mode": {
    "name": "ipython",
    "version": 3
   },
   "file_extension": ".py",
   "mimetype": "text/x-python",
   "name": "python",
   "nbconvert_exporter": "python",
   "pygments_lexer": "ipython3",
   "version": "3.7.4"
  }
 },
 "nbformat": 4,
 "nbformat_minor": 2
}
