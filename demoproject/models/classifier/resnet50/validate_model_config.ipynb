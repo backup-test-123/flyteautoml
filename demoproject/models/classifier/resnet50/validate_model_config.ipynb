{
 "cells": [
  {
   "cell_type": "code",
   "execution_count": 88,
   "metadata": {
    "collapsed": true,
    "pycharm": {
     "is_executing": false
    }
   },
   "outputs": [],
   "source": [
    "model_config_path = \"./dataset_config.cfg\""
   ]
  },
  {
   "cell_type": "code",
   "execution_count": 89,
   "outputs": [],
   "source": [
    "import ujson\n",
    "import uuid\n",
    "import pprint\n",
    "from flytekit.sdk.types import Types\n",
    "from flytekit.common import utils as flytekit_utils"
   ],
   "metadata": {
    "collapsed": false,
    "pycharm": {
     "name": "#%%\n",
     "is_executing": false
    }
   }
  },
  {
   "cell_type": "code",
   "execution_count": 90,
   "outputs": [],
   "source": [
    "def validate_model_config(model_config_path):\n",
    "    \n",
    "    with flytekit_utils.AutoDeletingTempDir(\"config\") as tmpdir:\n",
    "        local_filename = tmpdir.get_named_tempfile(\"config_{}.json\".format(uuid.uuid4().hex))\n",
    "        model_config_file = Types.Blob.fetch(model_config_path, local_filename)\n",
    "        with model_config_file as model_config_fileobj:\n",
    "            config = ujson.loads(model_config_fileobj.read())\n",
    "            pp = pprint.PrettyPrinter(indent=4)\n",
    "            pp.pprint(config)\n",
    "        return ujson.dumps(config)"
   ],
   "metadata": {
    "collapsed": false,
    "pycharm": {
     "name": "#%%\n",
     "is_executing": false
    }
   }
  },
  {
   "cell_type": "code",
   "execution_count": 91,
   "outputs": [
    {
     "name": "stdout",
     "text": [
      "{   'evaluation_datasets': {   '1538521877': {   'streams': {   'cam-rgb-1': {   'augmentation': {   },\n                                                                                 'end': 100,\n                                                                                 'every_n': 100,\n                                                                                 'start': 0}},\n                                                 'sub_path': 'Full'},\n                               '1539391807': {   'streams': {   'cam-rgb-1': {   'end': 100,\n                                                                                 'every_n': 100,\n                                                                                 'start': 0}},\n                                                 'sub_path': 'Full'}}}\n"
     ],
     "output_type": "stream"
    }
   ],
   "source": [
    "model_config_string = validate_model_config(model_config_path)\n"
   ],
   "metadata": {
    "collapsed": false,
    "pycharm": {
     "name": "#%%\n",
     "is_executing": false
    }
   }
  },
  {
   "cell_type": "code",
   "execution_count": 92,
   "outputs": [
    {
     "data": {
      "text/plain": "literals {\n  key: \"model_config_string\"\n  value {\n    scalar {\n      primitive {\n        string_value: \"{\\\"evaluation_datasets\\\":{\\\"1538521877\\\":{\\\"sub_path\\\":\\\"Full\\\",\\\"streams\\\":{\\\"cam-rgb-1\\\":{\\\"start\\\":0,\\\"end\\\":100,\\\"every_n\\\":100,\\\"augmentation\\\":{}}}},\\\"1539391807\\\":{\\\"sub_path\\\":\\\"Full\\\",\\\"streams\\\":{\\\"cam-rgb-1\\\":{\\\"start\\\":0,\\\"end\\\":100,\\\"every_n\\\":100}}}}}\"\n      }\n    }\n  }\n}"
     },
     "metadata": {},
     "output_type": "execute_result",
     "execution_count": 92
    }
   ],
   "source": [
    "from flytekit.contrib.notebook import record_outputs\n",
    "\n",
    "record_outputs({\"model_config_string\": model_config_string})\n"
   ],
   "metadata": {
    "collapsed": false,
    "pycharm": {
     "name": "#%%\n",
     "is_executing": false
    }
   }
  }
 ],
 "metadata": {
  "kernelspec": {
   "name": "python3",
   "language": "python",
   "display_name": "Python 3"
  },
  "language_info": {
   "codemirror_mode": {
    "name": "ipython",
    "version": 2
   },
   "file_extension": ".py",
   "mimetype": "text/x-python",
   "name": "python",
   "nbconvert_exporter": "python",
   "pygments_lexer": "ipython2",
   "version": "2.7.6"
  },
  "pycharm": {
   "stem_cell": {
    "cell_type": "raw",
    "source": [],
    "metadata": {
     "collapsed": false
    }
   }
  }
 },
 "nbformat": 4,
 "nbformat_minor": 0
}