{
 "cells": [
  {
   "cell_type": "code",
   "execution_count": 60,
   "metadata": {
    "collapsed": true,
    "pycharm": {
     "is_executing": false
    }
   },
   "outputs": [],
   "source": [
    "model_config_path = \"./evaluate_dataset_config.json\""
   ]
  },
  {
   "cell_type": "code",
   "execution_count": null,
   "outputs": [],
   "source": [
    "import ujson\n",
    "import uuid\n",
    "from flytekit.sdk.types import Types\n",
    "from flytekit.common import utils as flytekit_utils"
   ],
   "metadata": {
    "collapsed": false,
    "pycharm": {
     "name": "#%%\n"
    }
   }
  },
  {
   "cell_type": "code",
   "execution_count": 61,
   "outputs": [],
   "source": [
    "def validate_model_config(model_config_path):\n",
    "    \n",
    "    with flytekit_utils.AutoDeletingTempDir(\"config\") as tmpdir:\n",
    "        local_filename = tmpdir.get_named_tempfile(\"config_{}.json\".format(uuid.uuid4().hex))\n",
    "        model_config_file = Types.Blob.fetch(model_config_path, local_filename)\n",
    "        with model_config_file as model_config_fileobj:\n",
    "            config = ujson.loads(model_config_fileobj.read())\n",
    "        return ujson.dumps(config)"
   ],
   "metadata": {
    "collapsed": false,
    "pycharm": {
     "name": "#%%\n",
     "is_executing": false
    }
   }
  },
  {
   "cell_type": "code",
   "execution_count": 62,
   "outputs": [
    {
     "name": "stdout",
     "text": [
      "{\"start\":0,\"end\":100,\"every_n\":1,\"every_n_offset\":0}\n"
     ],
     "output_type": "stream"
    }
   ],
   "source": [
    "model_config_string = validate_model_config(model_config_path)\n",
    "print(model_config_string)"
   ],
   "metadata": {
    "collapsed": false,
    "pycharm": {
     "name": "#%%\n",
     "is_executing": false
    }
   }
  },
  {
   "cell_type": "code",
   "execution_count": 63,
   "outputs": [
    {
     "data": {
      "text/plain": "literals {\n  key: \"model_config_string\"\n  value {\n    scalar {\n      primitive {\n        string_value: \"{\\\"start\\\":0,\\\"end\\\":100,\\\"every_n\\\":1,\\\"every_n_offset\\\":0}\"\n      }\n    }\n  }\n}"
     },
     "metadata": {},
     "output_type": "execute_result",
     "execution_count": 63
    }
   ],
   "source": [
    "from flytekit.contrib.notebook import record_outputs\n",
    "\n",
    "record_outputs({\"model_config_string\": model_config_string})\n"
   ],
   "metadata": {
    "collapsed": false,
    "pycharm": {
     "name": "#%%\n",
     "is_executing": false
    }
   }
  }
 ],
 "metadata": {
  "kernelspec": {
   "name": "python3",
   "language": "python",
   "display_name": "Python 3"
  },
  "language_info": {
   "codemirror_mode": {
    "name": "ipython",
    "version": 2
   },
   "file_extension": ".py",
   "mimetype": "text/x-python",
   "name": "python",
   "nbconvert_exporter": "python",
   "pygments_lexer": "ipython2",
   "version": "2.7.6"
  },
  "pycharm": {
   "stem_cell": {
    "cell_type": "raw",
    "source": [
     "\n"
    ],
    "metadata": {
     "collapsed": false
    }
   }
  }
 },
 "nbformat": 4,
 "nbformat_minor": 0
}