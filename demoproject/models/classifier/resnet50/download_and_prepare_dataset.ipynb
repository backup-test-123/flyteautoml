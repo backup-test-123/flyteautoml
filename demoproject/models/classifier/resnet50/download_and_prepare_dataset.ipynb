{
 "cells": [
  {
   "cell_type": "code",
   "execution_count": null,
   "metadata": {
    "collapsed": true
   },
   "outputs": [],
   "source": []
  },
  {
   "cell_type": "code",
   "execution_count": null,
   "outputs": [],
   "source": [
    "from shutil import rmtree\n"
   ],
   "metadata": {
    "collapsed": false,
    "pycharm": {
     "name": "#%%\n"
    }
   }
  },
  {
   "cell_type": "code",
   "execution_count": null,
   "outputs": [],
   "source": [
    "@inputs(data_session_id=Types.String)\n",
    "@inputs(sub_path=Types.String)\n",
    "@inputs(stream_name=Types.String)\n",
    "@inputs(stream_config_string=Types.String)\n",
    "@outputs(output_zip=Types.Blob)\n",
    "@batch_sub_task(version=\"1\", memory_hint=4000)\n",
    "def download_and_prepare_dataset(\n",
    "    data_session_id, \n",
    "    sub_path, \n",
    "    stream_name, \n",
    "    stream_config_string, \n",
    "    output_zip\n",
    "):\n",
    "    \n",
    "    \"\"\"\n",
    "    Take a dataset pair (collection_id, sub_path, and stream_name) and archive it all into 1 zip file\n",
    "    so the training workflow has a quicker time downloading it all\n",
    "    This also supports the sub-selection elements that exist in the config where we can sub-select a subset of\n",
    "    the content in that dataset\n",
    "    \"\"\"\n",
    "\n",
    "    dataset_config_json = ujson.loads(stream_config_string)\n",
    "    tmp_folder = wf_params.working_directory.get_named_tempfile(\"input\")\n",
    "    output_zip_file_name = wf_params.working_directory.get_named_tempfile(\"output.zip\")\n",
    "\n",
    "    output_dir_path = Path(tmp_folder)\n",
    "    if output_dir_path.exists():\n",
    "        rmtree(tmp_folder)\n",
    "    output_dir_path.mkdir(0o777, parents=True, exist_ok=False)\n",
    "\n",
    "    s3_client = boto3.client(\"s3\")\n",
    "    bucket = BUCKET_NAME\n",
    "    prefix = DATA_PATH_FORMAT.format(\n",
    "        collection_id=data_session_id, sub_path=sub_path, stream_name=stream_name\n",
    "    )\n",
    "\n",
    "    # List all objects within a S3 bucket path\n",
    "    start = dataset_config_json.get(\"start\", 0)\n",
    "    end = dataset_config_json.get(\"end\", 100)\n",
    "    every_n = dataset_config_json.get(\"every_n\", 1)\n",
    "    every_n_offset = dataset_config_json.get(\"every_n_offset\", 0)\n",
    "\n",
    "    dataset_keys = s3_list_contents_paginated(\n",
    "        s3_client=s3_client, bucket=bucket, prefix=prefix\n",
    "    )\n",
    "    dataset_size = len(dataset_keys)\n",
    "    # Loop through each file\n",
    "    for i in range(0, dataset_size):\n",
    "        # Get the file name\n",
    "        file = dataset_keys[i]\n",
    "        frame_id = should_include_frame_in_subset(\n",
    "            frame_key_name=file[\"Key\"],\n",
    "            dataset_size=dataset_size,\n",
    "            subset_start=start,\n",
    "            subset_end=end,\n",
    "            subset_every_n=every_n,\n",
    "            subset_every_n_offset=every_n_offset,\n",
    "        )\n",
    "        if not frame_id:\n",
    "            continue\n",
    "\n",
    "        # download, with a more specific name to tmp\n",
    "        new_file_name = (\n",
    "            f\"{tmp_folder}/Frame_{data_session_id}_{stream_name}_{frame_id:05d}.png\"\n",
    "        )\n",
    "        print(\"downloading {} to {}\".format(file[\"Key\"], new_file_name))\n",
    "        s3_client.download_file(bucket, file[\"Key\"], new_file_name)\n",
    "\n",
    "    zipdir(tmp_folder, output_zip_file_name)\n",
    "    zip_blob = Types.Blob()\n",
    "    with zip_blob as fileobj:\n",
    "        with open(output_zip_file_name, mode=\"rb\") as file:  # b is important -> binary\n",
    "            fileobj.write(file.read())"
   ],
   "metadata": {
    "collapsed": false,
    "pycharm": {
     "name": "#%%\n"
    }
   }
  }
 ],
 "metadata": {
  "kernelspec": {
   "name": "python3",
   "language": "python",
   "display_name": "Python 3"
  },
  "language_info": {
   "codemirror_mode": {
    "name": "ipython",
    "version": 2
   },
   "file_extension": ".py",
   "mimetype": "text/x-python",
   "name": "python",
   "nbconvert_exporter": "python",
   "pygments_lexer": "ipython2",
   "version": "2.7.6"
  },
  "pycharm": {
   "stem_cell": {
    "cell_type": "raw",
    "source": [],
    "metadata": {
     "collapsed": false
    }
   }
  }
 },
 "nbformat": 4,
 "nbformat_minor": 0
}