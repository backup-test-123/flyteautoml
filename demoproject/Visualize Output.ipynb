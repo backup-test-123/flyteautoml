{
 "cells": [
  {
   "cell_type": "code",
   "execution_count": 9,
   "metadata": {},
   "outputs": [],
   "source": [
    "from flytekit.sdk.types import Types\n",
    "from flytekit.common import utils\n",
    "from flytekit.common.workflow_execution import SdkWorkflowExecution\n",
    "\n",
    "from IPython.display import Image\n",
    "from IPython.core.display import HTML "
   ]
  },
  {
   "cell_type": "code",
   "execution_count": 2,
   "metadata": {},
   "outputs": [],
   "source": [
    "wf = SdkWorkflowExecution.fetch(project=\"flytekubecondemo2019\", domain=\"development\", name=\"f65c48801eba846cf95f\")\n"
   ]
  },
  {
   "cell_type": "code",
   "execution_count": 5,
   "metadata": {},
   "outputs": [
    {
     "name": "stdout",
     "output_type": "stream",
     "text": [
      "s3://lyft-modelbuilder/h4/0d357758547f07aa61adcc980cd04bba\n"
     ]
    }
   ],
   "source": [
    "print(wf.outputs[\"trained_models\"][0].uri)"
   ]
  },
  {
   "cell_type": "code",
   "execution_count": 12,
   "metadata": {},
   "outputs": [
    {
     "data": {
      "text/html": [
       "<img src=\"https://image.shutterstock.com/image-photo/beautiful-green-red-aurora-dancing-600w-1068442454.jpg\" height=\"600\"/>"
      ],
      "text/plain": [
       "<IPython.core.display.Image object>"
      ]
     },
     "execution_count": 12,
     "metadata": {},
     "output_type": "execute_result"
    }
   ],
   "source": [
    "Image(url= \"https://image.shutterstock.com/image-photo/beautiful-green-red-aurora-dancing-600w-1068442454.jpg\", height=600)\n"
   ]
  },
  {
   "cell_type": "code",
   "execution_count": null,
   "metadata": {},
   "outputs": [],
   "source": [
    "from flytekit.sdk.tasks import (\n",
    "    python_task,\n",
    "    inputs,\n",
    "    outputs,\n",
    ")\n",
    "from flytekit.sdk.types import Types\n",
    "from flytekit.common import utils\n",
    "\n",
    "from demo_metrics.tasks.confusion_matrix import _plot_confusion_matrix as pm, _sample_train as st\n",
    "import numpy as np\n",
    "\n",
    "@inputs(y_true=[Types.Integer], y_pred=[Types.Integer], title=Types.String, normalize=Types.Boolean, classes=[Types.String])\n",
    "@outputs(matrix=[[Types.Integer]], visual=Types.Blob)\n",
    "@python_task\n",
    "def confusion_matrix(wf_params, y_true, y_pred, title, normalize, classes, matrix, visual):\n",
    "    with utils.AutoDeletingTempDir('test') as tmpdir:\n",
    "        f_path = tmpdir.get_named_tempfile(\"visual\")\n",
    "        cm = pm(np.asarray(y_true), np.asarray(y_pred), classes=np.asarray(classes), title=title, normalize=normalize, to_file_path=f_path)\n",
    "        visual.set(f_path)\n",
    "        m = []\n",
    "        for i in range(cm.shape[0]):\n",
    "            m.append([])\n",
    "            for j in range(cm.shape[1]):\n",
    "              m[i].append(j)\n",
    "        matrix.set(m)\n",
    "\n",
    "cm = confusion_matrix.unit_test(y_true=y_test.tolist(), y_pred=y_pred.tolist(), title='Confusion matrix, without normalization', normalize=False, classes=class_names.tolist())"
   ]
  }
 ],
 "metadata": {
  "kernelspec": {
   "display_name": "Python 3",
   "language": "python",
   "name": "python3"
  },
  "language_info": {
   "codemirror_mode": {
    "name": "ipython",
    "version": 3
   },
   "file_extension": ".py",
   "mimetype": "text/x-python",
   "name": "python",
   "nbconvert_exporter": "python",
   "pygments_lexer": "ipython3",
   "version": "3.7.4"
  }
 },
 "nbformat": 4,
 "nbformat_minor": 2
}
