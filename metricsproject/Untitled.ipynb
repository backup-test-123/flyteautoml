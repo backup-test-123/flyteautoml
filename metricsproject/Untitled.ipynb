{
 "cells": [
  {
   "cell_type": "code",
   "execution_count": 53,
   "metadata": {},
   "outputs": [],
   "source": [
    "from flytekit.sdk.tasks import (\n",
    "    python_task,\n",
    "    inputs,\n",
    "    outputs,\n",
    ")\n",
    "from flytekit.sdk.types import Types\n",
    "from flytekit.common import utils\n",
    "\n",
    "from demo_metrics.tasks.confusion_matrix import _plot_confusion_matrix as pm, _sample_train as st"
   ]
  },
  {
   "cell_type": "code",
   "execution_count": 58,
   "metadata": {},
   "outputs": [],
   "source": [
    "import numpy as np\n",
    "\n",
    "@inputs(y_true=[Types.Integer], y_pred=[Types.Integer], title=Types.String, normalize=Types.Boolean, classes=[Types.String])\n",
    "@outputs(matrix=[[Types.Integer]], visual=Types.Blob)\n",
    "@python_task\n",
    "def confusion_matrix(wf_params, y_true, y_pred, title, normalize, classes, matrix, visual):\n",
    "    with utils.AutoDeletingTempDir('test') as tmpdir:\n",
    "        f_path = tmpdir.get_named_tempfile(\"visual\")\n",
    "        cm = pm(np.asarray(y_true), np.asarray(y_pred), classes=np.asarray(classes), title=title, normalize=normalize, to_file_path=f_path)\n",
    "        visual.set(f_path)\n",
    "        m = []\n",
    "        for i in range(cm.shape[0]):\n",
    "            m.append([])\n",
    "            for j in range(cm.shape[1]):\n",
    "              m[i].append(j)\n",
    "        matrix.set(m)"
   ]
  },
  {
   "cell_type": "code",
   "execution_count": 59,
   "metadata": {},
   "outputs": [
    {
     "name": "stdout",
     "output_type": "stream",
     "text": [
      "<class 'numpy.ndarray'>\n"
     ]
    },
    {
     "data": {
      "text/plain": [
       "['setosa', 'versicolor', 'virginica']"
      ]
     },
     "execution_count": 59,
     "metadata": {},
     "output_type": "execute_result"
    }
   ],
   "source": [
    "y_test, y_pred, class_names = st()\n",
    "print(type(class_names))\n",
    "y_test.tolist()\n",
    "class_names.tolist()"
   ]
  },
  {
   "cell_type": "code",
   "execution_count": 60,
   "metadata": {},
   "outputs": [
    {
     "name": "stdout",
     "output_type": "stream",
     "text": [
      "Confusion matrix, without normalization\n"
     ]
    },
    {
     "data": {
      "image/png": "[encoded data removed]",
      "text/plain": [
       "<Figure size 432x288 with 2 Axes>"
      ]
     },
     "metadata": {
      "needs_background": "light"
     },
     "output_type": "display_data"
    }
   ],
   "source": [
    "cm = confusion_matrix.unit_test(y_true=y_test.tolist(), y_pred=y_pred.tolist(), title='Confusion matrix, without normalization', normalize=False, classes=class_names.tolist())"
   ]
  },
  {
   "cell_type": "code",
   "execution_count": 57,
   "metadata": {},
   "outputs": [
    {
     "name": "stdout",
     "output_type": "stream",
     "text": [
      "{'matrix': [[0.0, 1.0, 2.0], [0.0, 1.0, 2.0], [0.0, 1.0, 2.0]], 'visual': metadata {\n",
      "  type {\n",
      "  }\n",
      "}\n",
      "uri: \"/var/folders/2b/wytvyh952jz8c17mp6yvh8nc0000gq/T/test_8wu_53cn/visual\"\n",
      "}\n"
     ]
    }
   ],
   "source": [
    "print(cm)"
   ]
  },
  {
   "cell_type": "code",
   "execution_count": 42,
   "metadata": {},
   "outputs": [
    {
     "ename": "FileNotFoundError",
     "evalue": "[Errno 2] No such file or directory: '/var/folders/2b/wytvyh952jz8c17mp6yvh8nc0000gq/T/test_inbo8f8i/visual'",
     "output_type": "error",
     "traceback": [
      "\u001b[0;31m---------------------------------------------------------------------------\u001b[0m",
      "\u001b[0;31mFileNotFoundError\u001b[0m                         Traceback (most recent call last)",
      "\u001b[0;32m<ipython-input-42-81e82a6f8bcd>\u001b[0m in \u001b[0;36m<module>\u001b[0;34m\u001b[0m\n\u001b[0;32m----> 1\u001b[0;31m \u001b[0mopen\u001b[0m\u001b[0;34m(\u001b[0m\u001b[0;34m\"/var/folders/2b/wytvyh952jz8c17mp6yvh8nc0000gq/T/test_inbo8f8i/visual\"\u001b[0m\u001b[0;34m)\u001b[0m\u001b[0;34m\u001b[0m\u001b[0;34m\u001b[0m\u001b[0m\n\u001b[0m",
      "\u001b[0;31mFileNotFoundError\u001b[0m: [Errno 2] No such file or directory: '/var/folders/2b/wytvyh952jz8c17mp6yvh8nc0000gq/T/test_inbo8f8i/visual'"
     ]
    }
   ],
   "source": [
    "open(\"/var/folders/2b/wytvyh952jz8c17mp6yvh8nc0000gq/T/test_inbo8f8i/visual\")"
   ]
  },
  {
   "cell_type": "code",
   "execution_count": null,
   "metadata": {},
   "outputs": [],
   "source": []
  }
 ],
 "metadata": {
  "kernelspec": {
   "display_name": "Python 3",
   "language": "python",
   "name": "python3"
  },
  "language_info": {
   "codemirror_mode": {
    "name": "ipython",
    "version": 3
   },
   "file_extension": ".py",
   "mimetype": "text/x-python",
   "name": "python",
   "nbconvert_exporter": "python",
   "pygments_lexer": "ipython3",
   "version": "3.7.4"
  }
 },
 "nbformat": 4,
 "nbformat_minor": 2
}
